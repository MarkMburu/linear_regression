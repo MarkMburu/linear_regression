{
 "cells": [
  {
   "cell_type": "markdown",
   "metadata": {
    "colab_type": "text",
    "id": "9Qh7SBCLFy07"
   },
   "source": [
    "<span style=\"font-family:Helvetica ;font-size: 14px; line-height:2.2\">\n",
    "\n",
    "# Linear Regression from Scratch with NumPy\n",
    "---\n",
    "\n",
    "Welcome to the first post of the **Implementing Machine Learning Algorithms with NumPy** series in which I'll try to show how one can implement some machine learning algorithms with `numpy` package only. \n",
    "\n",
    "Of course, we will use other useful packages such as `matplotlib`, ` seaborn` and etc. However, the use of other packages may only be limited to data visualization, data manipulation and/or loading datasets (e.g. `sklearn.datasets`) such that we won't take any shortcuts while writing the actual code for machine learning models.\n",
    "\n",
    "To sum it up, we will be implementing machine learning algorithms from scratch! Isn't that exciting and little bit overwhelming at the same time? Did I mention that it is super fun as well? The first algorithm that we will tackle is linear regression. Since it is the \"hello world\" algorithm of the machine learning universe, it will be pretty easy to implement it with NumPy. Let's start right away!\n",
    "\n",
    "## Linear Regression Intuition\n",
    "---\n",
    "\n",
    "\n",
    "Before we write the code for implementation of linear regression, first we need to understand what linear regression is. There are many useful resources out there that makes it quite easy to understand the concept behind regression and particularly linear regression so, I won't be going into much detail here. \n",
    "\n",
    "Linear regression is used to make some sense of the data we have at hand by unearthing the relation between target values and features of the data. When we know this relation, we can make predictions about the data that we haven't seen before, in other words, we can infer the target value from feature values. Let's exemplify this: \n",
    "\n",
    "Suppose we want to understand how a company X decides what to pay to its employees. There may be so many factors that go into that decision so, we go around and ask most of the employees who work there. After a lot of prying and sneaking around, it turns out that, some of them earn a lot because they have been working at the company X for quite some time, some of them earn higher than most simply because they get along really well with the boss and some earn higher because of their qualifications and talent. These three indicators seem to be the major ones so we'll be using these three only. Now, with the information we have gathered, we want to understand the underlying relation between these factors and the salary that is paid to the employees currently. We come up with this oversimpflied equation:\n",
    "\n",
    "</span>\n",
    "\n",
    "<span style=\"font-family:Helvetica ;font-size: 16px; line-height:3.2\">\n",
    "    \n",
    "**SALARY** = (? x _**Qualifications**_) + (? x **_Length of Service_**) + (? x _**Buttering up the Boss**_)\n",
    "    \n",
    "</span>\n",
    "\n",
    "<span style=\"font-family:Helvetica ;font-size: 14px; line-height:2.2\">\n",
    "    \n",
    "We can see from the equation above that the salary is affected by 3 attributes. These attributes, also called **features**, affect the salary according to their own weight which is depicted in the equation as question marks simply because we don't actually know what these weights are. \n",
    "\n",
    "Now, let's imagine what would happen if we know these weights exactly. Then, if we have an employee whose salary we don't know, we can use the features (qualifications, length of service etc.) of the employee to predict the employee's salary, that is, we would understand how these features and the target value (salary) are related. \n",
    "\n",
    "Turns out, linear regression is used to do exactly that! It is used to get a good estimate of these weights so that they can be used to predict the target value of unseen data. In machine learning world, these weights are often called **parameters**, hence from now on, we'll adopt that term here as well. \n",
    "\n",
    "\n",
    "## Gradient Descent Algorithm\n",
    "---\n",
    "\n",
    "\n",
    "Now that we know **what** linear regression is practically, we can come to the **how** part. How does this algorithm work? How can we figure out these parameters for linear regression? In machine learning, there is another famous algorithm called **gradient descent** that is widely used, not only for estimating the parameters for linear regression but for other optimization problems as well. In gradient descent algorithm, parameters of the model is changed iteratively at each step starting with the initial values of the parameters. \n",
    "\n",
    "To remind us once more, parameters (weights) are the numerical values that determine how much each feature affects the target value. We want to know these parameter values exactly, but in real life this is not possible because there may be  other features (hence, parameters of those features as well) affecting the target value. However, we want them to predict the target value as close as possible to the actual value. Since, the question marks in the above equation represent the parameter values, we can replace them with values like this:\n",
    "\n",
    "</span>\n",
    "\n",
    "<span style=\"font-family:Helvetica ;font-size: 16px; line-height:3.2\">\n",
    "\n",
    "**SALARY** = (1000 x _**Qualifications**_) + (200 x **_Length of Service_**) + (500 x _**Buttering up the Boss**_)\n",
    "\n",
    "</span>\n",
    "\n",
    "<span style=\"font-family:Helvetica ;font-size: 14px; line-height:2.2\">\n",
    "\n",
    "Here, it is obvious that qualifications feature affects salary more than the other features, because its parameter value is higher than the rest. Keep in mind that we have chosen these parameter values intuitively and we will be using them as our initial parameter values, yet these initial values will change at every step of the algorithm towards their optimal values.\n",
    "\n",
    "Going along with our analogy, suppose we have an initial estimate for the parameters of these features and we went around and asked these questions to the first employee we could find:\n",
    "\n",
    " * For how long have you been working here?\n",
    " * What are your qualifications for your position?\n",
    " * How do you get along with your boss? (Does your boss seem to like or dislike you?) \n",
    "\n",
    "For the first question, we told the employee that we would accept an answer in years (1 year, 2 years, 5 years etc.). For the second question, we told the employee that the answer would be any number from 1 to 10 (1 being the least qualified and 10 the most). For the last question, the answer would be a number from -5 to 5. Here, minus represents the negativity of the relationship between the employee and the boss. Therefore, -5 means that the boss quite dislikes the employee, 0 could mean that the boss doesn't even know the employee and/or there is no interaction between the two and +5 means that two of them get along just great. \n",
    "\n",
    "When we asked the employee these questions, these were the answers we got:\n",
    "\n",
    "* I've have been working here for 10 years.\n",
    "* I can honestly say that I'm overqualified for this job. So I would give it a 9.\n",
    "* My boss seems to hate me. Whenever I'm around I can see the hatred in his eyes. So I would give it a -4.\n",
    "\n",
    "Remember that we want to predict the salary based the parameters we have chosen and the answers we've got from the employee. After predicting what the salary would be based on only these answers, we ask the employee what her actual salary is. The difference between the predicted and actual value determines how successful our estimates for these parameters (weights) are. Gradient descent algorithm's job is to make this difference (predicted - actual) as small as possible. Let's go ahead and call this difference **error**, since it represents how much off the actual value is from the predicted value. Now, let's plug the numbers we get from the first employee's answers into our equation:\n",
    "\n",
    "</span>\n",
    "\n",
    "<span style=\"font-family:Helvetica ;font-size: 16px; line-height:3.2\">\n",
    "\n",
    "**SALARY** = (1000 x 10) + (200 x 9) + (500 x -4)\n",
    "\n",
    "</span>\n",
    "\n",
    "<span style=\"font-family:Helvetica ;font-size: 14px; line-height:2.2\">\n",
    "\n",
    "Hence, this shows that our prediction for the salary is:\n",
    "\n",
    "</span>\n",
    "\n",
    "<span style=\"font-family:Helvetica ;font-size: 16px; line-height:3.2\">\n",
    "\n",
    "**SALARY**<sub>predicted</sub> = 12800\n",
    "\n",
    "</span>\n",
    "\n",
    "<span style=\"font-family:Helvetica ;font-size: 14px; line-height:2.5\">\n",
    "\n",
    "Now, after getting the actual salary from the employee, we calculate the error between the actual and predicted value:\n",
    "\n",
    "</span>\n",
    "\n",
    "<span style=\"font-family:Helvetica ;font-size: 16px; line-height:2.2\">\n",
    "\n",
    "**SALARY**<sub>actual</sub> = 9800\n",
    "\n",
    "</span>\n",
    "\n",
    "<span style=\"font-family:Helvetica ;font-size: 16px; line-height:3.2\">\n",
    "\n",
    "**Error** = **SALARY**<sub>predicted</sub> - **SALARY**<sub>actual</sub> = 12800 - 9800 = 3000\n",
    "\n",
    "</span>\n",
    "\n",
    "<span style=\"font-family:Helvetica ;font-size: 14px; line-height:2.2\">\n",
    "\n",
    "We see that our error is **3000**, we want to make this error as small as possible by tweaking the parameter values appropriately. But how do we do that? How do we decide what is the correct way of changing the parameter values? Obviously, we can make guesses intuitively and change the parameter values (increase or decrease) to make the error small enough. However, this won't be practical if we have one hundred features and not only three. One hundred features mean one hundred parameter values, remember? Obviously, we have to find a better way than this.\n",
    "\n",
    "Moreover, there is another factor to consider. This error cannot represent only one employee, in other words, we cannot only change the parameter values for one employee since we want this model to be representative for all the employees who work at company X. We have to get the answer from each employee and plug those values into the equation, find the error and change the parameters accordingly. \n",
    "\n",
    "The error function that we have used here (Error = Predicted - Actual) is one of the most basic functions in machine learning which has its certain limitations. Therefore, while implemeting linear regression, we will use a more sophisticated version called **sum of squared errors (SSE)**, which is simply the the sum of square differences between the actual and predicted values.\n",
    "\n",
    "</span>\n",
    "\n",
    "<span style=\"font-family:Helvetica ;font-size: 14px; line-height:2.2\">\n",
    "    \n",
    "Now, a quick change of notation is in order. The term **cost** is often used a lot instead of the term erro' and we'll use that here as well, since it costs us to miss the actual value by an amount of predicted-actual. If predicted value was equal to the actual value, the cost would be zero. Therefore, a cost function is used as a measure of how wrong the model is in terms of its ability to estimate the relationship between feature values and target values.\n",
    "\n",
    "After establishing which cost function to use, we can now move on. The whole point of gradient descent algorithm is to minimize the cost function. When we minimize the cost function, we are actually ensuring the possible lowest error while increasing the accuracy of our model. We go over our dataset iteratively while updating the parameters at each step. Back to our analogy, remember that we had three parameters (qualifications, length of service, buttering up the boss) that we wanted to change in the direction that minimized the cost function. So checking each data point in our dataset basically means asking each employee who works at company X those 3 questions we convised, using plugging the values we extract from answers into the cost function and deciding into which direction the next step should be taken to minimize the cost function.\n",
    "\n",
    "Now, how do we decide which direction we should move towards to make the total cost lower? Calculus comes to our help here. When we want to minimize a function we take the derivative of the function with respect to a variable and use that derivative to decide which direction to go. In our analogy, the parameters that we have chosen are actually the **variables** of our cost function because the cost function varies as each parameter varies (variable, duh). We have to take the derivative with respect to each parameter and update the parameters using those derivative values. In the picture below, we can see the graph of the cost function against just one parameter (Length of Service). Now when we calculate the partial derivative of the cost function with respect to this parameter only, we get the direction we need to move towards for this parameter, in order to reach the local minima whose slope equals to 0.\n",
    "\n",
    "</span>\n",
    "\n",
    "<span style=\"font-family:Helvetica ;font-size: 14px; line-height:1.2\">\n",
    "\n",
    "<img src=\"img/cost_function.png\" width=400 height=200 > <br> <br>\n",
    "\n",
    "</span>\n",
    "\n",
    "<span style=\"font-family:Helvetica ;font-size: 14px; line-height:2.2\">\n",
    "\n",
    "When we take the derivative with respect to each parameter and find the direction we need to move towards, we update each parameter simultaneously:\n",
    "\n",
    "</span>\n",
    "\n",
    "<span style=\"font-family:Helvetica ;font-size: 16px; line-height:3.2\">\n",
    "\n",
    "**Length of Service**<sub>updated</sub> = **Length of Service**<sub>old</sub> - (*Learning Rate* x **Partial Derivative w.r.t. Length of Service**)\n",
    "\n",
    "</span>\n",
    "\n",
    "<span style=\"font-family:Helvetica ;font-size: 14px; line-height:2.2\">\n",
    "\n",
    "This update rule is applied to all of the parameters using their partial derivatives correspondingly. When we apply update rule once, it means one iteration. Here, **learning rate**, also called learning step, is the amount that the parameters are updated during learning. Learning rate is a configurable hyperparameter, often chosen between 0.0 and 1.0, that defines the rate or speed at which the model learns. If it's high, the model learns quickly, however it's too high, we might miss the optimal value during learning because we might have taken a really big step. If the learning rate is too low, then the model will take a lot of time to converge to the lowest cost function value. Obviously, tuning this hyperparameter is of great importance in machine learning.\n",
    "\n",
    "So one iteration means asking each employee those three questions only once (or going over the dataset once) and updating the parameter values accordingly. After iterating the dataset many times, iterating stops when we reach a point where the cost is low enough for us to decide that we can stop the algorithm and use the parameter values that were updated up until now. Then, we can use those **optimized** values to predict new target values for new feature values. What do we mean by optimized here? Well, now we have found parameter values for our three features, so that they can predict new target values with lowest possible error. Hence, we optimized those parameters in our model. This is where learning of the machine learning happens indeed. We **learn** the parameters that minimizes our cost function.\n",
    "\n",
    "</span>"
   ]
  },
  {
   "cell_type": "markdown",
   "metadata": {
    "colab_type": "text",
    "id": "fOVZo_QaP4eX"
   },
   "source": [
    "<span style=\"font-family:Helvetica ;font-size: 14px; line-height:2.2\">\n",
    "    \n",
    "## Linear Regression Implementation (Finally!)\n",
    "---"
   ]
  },
  {
   "cell_type": "code",
   "execution_count": 8,
   "metadata": {
    "colab": {},
    "colab_type": "code",
    "id": "q-X9lP0wwR5u"
   },
   "outputs": [],
   "source": [
    "import numpy as np\n",
    "from sklearn.datasets import load_boston\n",
    "import matplotlib.pyplot as plt"
   ]
  },
  {
   "cell_type": "markdown",
   "metadata": {
    "colab_type": "text",
    "id": "s3_6cl5YwUMw"
   },
   "source": [
    "<span style=\"font-family:Helvetica ;font-size: 14px; line-height:2.2\">\n",
    "\n",
    "First things first, we start by importing necessary libraries to help us along the way. As I have mentioned before, we won't be using any packages that will give us already implemented algorithm models such as `sklearn.linear_model` since it won't help us grasp what is the underlying principles of implementing an algorithm because it is an out-of-the-box (hence, ready-made) solution. We want to do it the hard way, not the easy way.\n",
    "\n",
    "Moreover, do notice that we can use `sklearn` package (or other packages) to make use of its useful functions, such as loading a dataset, as long as we don't use its already implemented algorithm models.\n",
    "\n",
    "We will be using:\n",
    "* `numpy` (obviously) to do all of the vectorized numerical computations on the dataset including the implementation of the algorithm,\n",
    "* `matplotlib` to plot graphs for better understanding the problem at hand with some visual aid,\n",
    "*` sklearn.datasets` to load some toy datasets to play around with our written code.\n"
   ]
  },
  {
   "cell_type": "code",
   "execution_count": 9,
   "metadata": {
    "colab": {},
    "colab_type": "code",
    "id": "m1kbVOE_PzjS"
   },
   "outputs": [
    {
     "name": "stdout",
     "output_type": "stream",
     "text": [
      "Total samples in our dataset is: 506\n"
     ]
    }
   ],
   "source": [
    "dataset = load_boston()\n",
    "\n",
    "X = dataset.data\n",
    "y = dataset.target[:,np.newaxis]\n",
    "\n",
    "print(\"Total samples in our dataset is: {}\".format(X.shape[0]))"
   ]
  },
  {
   "cell_type": "markdown",
   "metadata": {
    "colab_type": "text",
    "id": "dOs_op5TQeCE"
   },
   "source": [
    "<span style=\"font-family:Helvetica ;font-size: 14px; line-height:2.2\">\n",
    "\n",
    "Now, it's time to load the dataset we will be using throughout this post. The `sklearn.datasets` package offers some toy datasets to illustrate the behaviour of some algorithms and we will be using `load_boston()`function to return a regression dataset. Here, `dataset.data` represents the feature samples and `dataset.target` returns the label values. \n",
    "\n",
    "It is important to note that, when we are loading the target values, we are adding a new dimension to the data (`dataset.target[:,np.newaxis]`), so that we can use the data as a column vector. Remember, linear algebra makes a distinction between row vectors and column vectors. However, in NumPy there are only n-dimensional arrays and no concept for row and column vectors, per se. We can use arrays of shape `(n, 1)` to imitate column vectors and `(1, n)` for row vectors. Ergo, we can use our target values of shape `(n, )` as a column vector of shape ` (n, 1)` by adding an axis explicitly. Luckily, we can do that with NumPy's own `newaxis` function which is used to increase the dimension of an array by one more dimension, when used once."
   ]
  },
  {
   "cell_type": "code",
   "execution_count": 10,
   "metadata": {
    "colab": {
     "base_uri": "https://localhost:8080/",
     "height": 556
    },
    "colab_type": "code",
    "id": "hogIdjr-f0s_",
    "outputId": "a0bcdd8d-65b7-48e2-eb0c-347cd92610d4"
   },
   "outputs": [
    {
     "name": "stdout",
     "output_type": "stream",
     "text": [
      "Initial Cost is: 296.0734584980237\n",
      "Optimal Theta is:  [[ 2.25328063e+01]\n",
      " [-9.28135085e-01]\n",
      " [ 1.08154929e+00]\n",
      " [ 1.40840005e-01]\n",
      " [ 6.81748308e-01]\n",
      " [-2.05670784e+00]\n",
      " [ 2.67424105e+00]\n",
      " [ 1.94568604e-02]\n",
      " [-3.10404863e+00]\n",
      " [ 2.66206628e+00]\n",
      " [-2.07660959e+00]\n",
      " [-2.06060107e+00]\n",
      " [ 8.49267351e-01]\n",
      " [-3.74362129e+00]]\n"
     ]
    },
    {
     "data": {
      "image/png": "[encoded data removed]",
      "text/plain": [
       "<Figure size 432x288 with 1 Axes>"
      ]
     },
     "metadata": {
      "needs_background": "light"
     },
     "output_type": "display_data"
    }
   ],
   "source": [
    "def gradient_descent(X, y, theta, alpha, iterations):\n",
    "    m = len(y)\n",
    "    J_history = np.zeros((iterations,1))\n",
    "\n",
    "    for i in range(iterations):\n",
    "        theta = theta - (alpha/m) * X.T @ (X @ theta - y) \n",
    "        J_history[i] = compute_cost(X, y, theta)\n",
    "\n",
    "    return (J_history, theta)\n",
    "\n",
    "\n",
    "def compute_cost(X, y, theta):\n",
    "    m = len(y)\n",
    "    h = X @ theta\n",
    "    return (1/(2*m))*np.sum((h-y)**2)\n",
    "\n",
    "\n",
    "\n",
    "dataset = load_boston()\n",
    "X = dataset.data\n",
    "y = dataset.target[:,np.newaxis]\n",
    "\n",
    "m = len(y)\n",
    "\n",
    "mu = np.mean(X, 0)\n",
    "sigma = np.std(X, 0)\n",
    "\n",
    "X = (X-mu) / sigma\n",
    "\n",
    "X = np.hstack((np.ones((m,1)),X))\n",
    "n = np.size(X,1)\n",
    "theta = np.zeros((n,1))\n",
    "\n",
    "iterations = 1500\n",
    "alpha = 0.01\n",
    "\n",
    "InitialCost = compute_cost(X, y, theta)\n",
    "\n",
    "print(\"Initial Cost is: {}\".format(InitialCost))\n",
    "\n",
    "(J_history, theta_optimal) = gradient_descent(X, y, theta, alpha, iterations)\n",
    "\n",
    "(J_history_2, theta_optimal) = gradient_descent(X, y, theta, 0.001, iterations)\n",
    "\n",
    "(J_history_3, theta_optimal) = gradient_descent(X, y, theta, 0.1, iterations)\n",
    "\n",
    "print(\"Optimal Theta is: \", theta_optimal)\n",
    "\n",
    "plt.plot(range(len(J_history)), J_history, 'r')\n",
    "plt.plot(range(len(J_history_2)), J_history_2, 'y')\n",
    "plt.plot(range(len(J_history_3)), J_history_3, 'g')\n",
    "plt.title(\"Convergence Graph of Cost Function\")\n",
    "plt.legend((\"alpha: 0.01\", \"alpha: 0.001\", \"alpha: 0.1\"))\n",
    "plt.xlabel(\"Number of Iterations\")\n",
    "plt.ylabel(\"Cost\")\n",
    "plt.show()"
   ]
  },
  {
   "cell_type": "code",
   "execution_count": null,
   "metadata": {
    "colab": {},
    "colab_type": "code",
    "id": "P-32m9tDgJ0Q"
   },
   "outputs": [],
   "source": []
  }
 ],
 "metadata": {
  "colab": {
   "collapsed_sections": [],
   "name": "Linear_Regression.ipynb",
   "provenance": [],
   "version": "0.3.2"
  },
  "kernelspec": {
   "display_name": "Python 3",
   "language": "python",
   "name": "python3"
  },
  "language_info": {
   "codemirror_mode": {
    "name": "ipython",
    "version": 3
   },
   "file_extension": ".py",
   "mimetype": "text/x-python",
   "name": "python",
   "nbconvert_exporter": "python",
   "pygments_lexer": "ipython3",
   "version": "3.7.1"
  }
 },
 "nbformat": 4,
 "nbformat_minor": 1
}
